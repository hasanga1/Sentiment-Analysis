{
 "cells": [
  {
   "cell_type": "code",
   "execution_count": 9,
   "metadata": {},
   "outputs": [],
   "source": [
    "import numpy as np"
   ]
  },
  {
   "cell_type": "code",
   "execution_count": 10,
   "metadata": {},
   "outputs": [],
   "source": [
    "import json\n",
    "with open('../artifcats/kaggle.json', 'r') as file:\n",
    "    data = json.load(file)"
   ]
  },
  {
   "cell_type": "code",
   "execution_count": 11,
   "metadata": {},
   "outputs": [
    {
     "data": {
      "text/plain": [
       "{u'key': u'b0719d77bc6ad970fbace06e58e60c28',\n",
       " u'username': u'hasangaranasinghe'}"
      ]
     },
     "execution_count": 11,
     "metadata": {},
     "output_type": "execute_result"
    }
   ],
   "source": [
    "data"
   ]
  },
  {
   "cell_type": "code",
   "execution_count": 18,
   "metadata": {},
   "outputs": [
    {
     "name": "stdout",
     "output_type": "stream",
     "text": [
      "Requirement already satisfied: kaggle in /Users/hasangaranasinghe/Documents/Projects/Sentiment-Analysis/myenv/lib/python3.12/site-packages (1.6.17)\r\n",
      "Requirement already satisfied: six>=1.10 in /Users/hasangaranasinghe/Documents/Projects/Sentiment-Analysis/myenv/lib/python3.12/site-packages (from kaggle) (1.16.0)\r\n",
      "Requirement already satisfied: certifi>=2023.7.22 in /Users/hasangaranasinghe/Documents/Projects/Sentiment-Analysis/myenv/lib/python3.12/site-packages (from kaggle) (2024.7.4)\r\n",
      "Requirement already satisfied: python-dateutil in /Users/hasangaranasinghe/Documents/Projects/Sentiment-Analysis/myenv/lib/python3.12/site-packages (from kaggle) (2.9.0.post0)\r\n",
      "Requirement already satisfied: requests in /Users/hasangaranasinghe/Documents/Projects/Sentiment-Analysis/myenv/lib/python3.12/site-packages (from kaggle) (2.32.3)\r\n",
      "Requirement already satisfied: tqdm in /Users/hasangaranasinghe/Documents/Projects/Sentiment-Analysis/myenv/lib/python3.12/site-packages (from kaggle) (4.66.5)\r\n",
      "Requirement already satisfied: python-slugify in /Users/hasangaranasinghe/Documents/Projects/Sentiment-Analysis/myenv/lib/python3.12/site-packages (from kaggle) (8.0.4)\r\n",
      "Requirement already satisfied: urllib3 in /Users/hasangaranasinghe/Documents/Projects/Sentiment-Analysis/myenv/lib/python3.12/site-packages (from kaggle) (2.2.2)\r\n",
      "Requirement already satisfied: bleach in /Users/hasangaranasinghe/Documents/Projects/Sentiment-Analysis/myenv/lib/python3.12/site-packages (from kaggle) (6.1.0)\r\n",
      "Requirement already satisfied: webencodings in /Users/hasangaranasinghe/Documents/Projects/Sentiment-Analysis/myenv/lib/python3.12/site-packages (from bleach->kaggle) (0.5.1)\r\n",
      "Requirement already satisfied: text-unidecode>=1.3 in /Users/hasangaranasinghe/Documents/Projects/Sentiment-Analysis/myenv/lib/python3.12/site-packages (from python-slugify->kaggle) (1.3)\r\n",
      "Requirement already satisfied: charset-normalizer<4,>=2 in /Users/hasangaranasinghe/Documents/Projects/Sentiment-Analysis/myenv/lib/python3.12/site-packages (from requests->kaggle) (3.3.2)\r\n",
      "Requirement already satisfied: idna<4,>=2.5 in /Users/hasangaranasinghe/Documents/Projects/Sentiment-Analysis/myenv/lib/python3.12/site-packages (from requests->kaggle) (3.7)\r\n"
     ]
    }
   ],
   "source": [
    "!pip install kaggle"
   ]
  },
  {
   "cell_type": "code",
   "execution_count": 13,
   "metadata": {},
   "outputs": [],
   "source": [
    "import os\n",
    "os.environ['KAGGLE_USERNAME'] = data['username']\n",
    "os.environ['KAGGLE_KEY'] = data['key']"
   ]
  },
  {
   "cell_type": "code",
   "execution_count": 19,
   "metadata": {},
   "outputs": [
    {
     "ename": "ImportError",
     "evalue": "No module named kaggle.api.kaggle_api_extended",
     "output_type": "error",
     "traceback": [
      "\u001b[0;31m---------------------------------------------------------------------------\u001b[0m",
      "\u001b[0;31mImportError\u001b[0m                               Traceback (most recent call last)",
      "\u001b[0;32m<ipython-input-19-ae9062023d5f>\u001b[0m in \u001b[0;36m<module>\u001b[0;34m()\u001b[0m\n\u001b[0;32m----> 1\u001b[0;31m \u001b[0;32mfrom\u001b[0m \u001b[0mkaggle\u001b[0m\u001b[0;34m.\u001b[0m\u001b[0mapi\u001b[0m\u001b[0;34m.\u001b[0m\u001b[0mkaggle_api_extended\u001b[0m \u001b[0;32mimport\u001b[0m \u001b[0mKaggleApi\u001b[0m\u001b[0;34m\u001b[0m\u001b[0m\n\u001b[0m\u001b[1;32m      2\u001b[0m \u001b[0mapi\u001b[0m \u001b[0;34m=\u001b[0m \u001b[0mKaggleApi\u001b[0m\u001b[0;34m(\u001b[0m\u001b[0;34m)\u001b[0m\u001b[0;34m\u001b[0m\u001b[0m\n\u001b[1;32m      3\u001b[0m \u001b[0mapi\u001b[0m\u001b[0;34m.\u001b[0m\u001b[0mauthenticate\u001b[0m\u001b[0;34m(\u001b[0m\u001b[0;34m)\u001b[0m\u001b[0;34m\u001b[0m\u001b[0m\n",
      "\u001b[0;31mImportError\u001b[0m: No module named kaggle.api.kaggle_api_extended"
     ]
    }
   ],
   "source": [
    "from kaggle.api.kaggle_api_extended import KaggleApi\n",
    "api = KaggleApi()\n",
    "api.authenticate()"
   ]
  },
  {
   "cell_type": "code",
   "execution_count": null,
   "metadata": {},
   "outputs": [],
   "source": []
  }
 ],
 "metadata": {
  "kernelspec": {
   "display_name": "Python 2",
   "language": "python",
   "name": "python2"
  },
  "language_info": {
   "codemirror_mode": {
    "name": "ipython",
    "version": 2
   },
   "file_extension": ".py",
   "mimetype": "text/x-python",
   "name": "python",
   "nbconvert_exporter": "python",
   "pygments_lexer": "ipython2",
   "version": "2.7.18"
  }
 },
 "nbformat": 4,
 "nbformat_minor": 2
}
